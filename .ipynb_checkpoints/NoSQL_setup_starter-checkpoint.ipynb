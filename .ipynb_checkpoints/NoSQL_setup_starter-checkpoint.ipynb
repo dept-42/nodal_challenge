{
 "cells": [
  {
   "cell_type": "markdown",
   "id": "8703d274-9c39-49ce-8593-df435c4397de",
   "metadata": {},
   "source": [
    "# Challenge 12: MongoDB & Pymongo (Eat Safe, Love)"
   ]
  },
  {
   "cell_type": "markdown",
   "id": "064ef857",
   "metadata": {},
   "source": [
    "## Part 1: Database and Jupyter Notebook Set Up"
   ]
  },
  {
   "cell_type": "markdown",
   "id": "664e3c1f",
   "metadata": {},
   "source": [
    "Import the data provided in the `establishments.json` file from your Terminal. Name the database `uk_food` and the collection `establishments`.\n",
    "\n",
    "Within this markdown cell, copy the line of text you used to import the data from your Terminal. This way, future analysts will be able to repeat your process.\n",
    "\n",
    "e.g.: Import the dataset with \n",
    "`Y(base) smiley:~ wayne.mitchell$ mongosh\n",
    "Current Mongosh Log ID:\t679fdcfcd0620472f289fd80\n",
    "Connecting to:\t\tmongodb://127.0.0.1:27017/?directConnection=true&serverSelectionTimeoutMS=2000&appName=mongosh+2.3.3\n",
    "db\n",
    "test\n",
    "test> use uk_food\n",
    "switched to db uk_food\n",
    "uk_food> db\n",
    "uk_food\n",
    "uk_food> db.createCollection(\"establishments\")\n",
    "{ ok: 1 }\n",
    "uk_food> show collections\n",
    "establishments\n",
    "uk_food> `"
   ]
  },
  {
   "cell_type": "code",
   "execution_count": 571,
   "id": "3ecdd008",
   "metadata": {},
   "outputs": [
    {
     "name": "stdout",
     "output_type": "stream",
     "text": [
      "Mongo version 4.10.1\n"
     ]
    }
   ],
   "source": [
    "# Import dependencies\n",
    "import pymongo\n",
    "from pymongo import MongoClient\n",
    "from pprint import pprint\n",
    "print(\"Mongo version\",pymongo.__version__)\n",
    "import os\n",
    "from bson.objectid import ObjectId"
   ]
  },
  {
   "cell_type": "code",
   "execution_count": 572,
   "id": "59390c4a",
   "metadata": {},
   "outputs": [],
   "source": [
    "# Create an instance of MongoClient\n",
    "mongo = MongoClient(port=27017)"
   ]
  },
  {
   "cell_type": "code",
   "execution_count": 575,
   "id": "7f9ececa",
   "metadata": {},
   "outputs": [
    {
     "name": "stdout",
     "output_type": "stream",
     "text": [
      "['admin', 'autosaurus', 'classDB', 'config', 'deepHistoricElectionResultstDB', 'electionResultsByYear_State_DistrictDB', 'epa', 'gardenDB', 'local', 'popDB', 'stateInfoDB', 'stateInforDB', 'travel_db', 'uk_food']\n"
     ]
    }
   ],
   "source": [
    "# confirm that our new database was created\n",
    "print(mongo.list_database_names())"
   ]
  },
  {
   "cell_type": "code",
   "execution_count": 576,
   "id": "71e373c1",
   "metadata": {},
   "outputs": [],
   "source": [
    "# assign the uk_food database to a variable name\n",
    "db = mongo['uk_food']"
   ]
  },
  {
   "cell_type": "code",
   "execution_count": 577,
   "id": "ef1b89ed",
   "metadata": {},
   "outputs": [
    {
     "name": "stdout",
     "output_type": "stream",
     "text": [
      "['establishments']\n"
     ]
    }
   ],
   "source": [
    "# review the collections in our new database\n",
    "print(db.list_collection_names())"
   ]
  },
  {
   "cell_type": "code",
   "execution_count": 578,
   "id": "18ab463c",
   "metadata": {},
   "outputs": [],
   "source": [
    "# review the collections in our new database\n",
    "with open('Resources/establishments.json') as file:\n",
    "    file_data = json.load(file)\n",
    "with open(os.devnull, 'w') as f:\n",
    "    os.dup2(f.fileno(), 1)\n",
    "    os.dup2(f.fileno(), 2)\n",
    "    establishments.insert_many(file_data)"
   ]
  },
  {
   "cell_type": "code",
   "execution_count": 579,
   "id": "6a0d92df",
   "metadata": {},
   "outputs": [
    {
     "name": "stdout",
     "output_type": "stream",
     "text": [
      "{'AddressLine1': 'The Bay',\n",
      " 'AddressLine2': 'St Margarets Bay',\n",
      " 'AddressLine3': 'Kent',\n",
      " 'AddressLine4': '',\n",
      " 'BusinessName': 'Refreshment Kiosk',\n",
      " 'BusinessType': 'Restaurant/Cafe/Canteen',\n",
      " 'BusinessTypeID': 1,\n",
      " 'ChangesByServerID': 0,\n",
      " 'Distance': 4587.347174863443,\n",
      " 'FHRSID': 254719,\n",
      " 'LocalAuthorityBusinessID': 'PI/000069980',\n",
      " 'LocalAuthorityCode': '182',\n",
      " 'LocalAuthorityEmailAddress': 'publicprotection@dover.gov.uk',\n",
      " 'LocalAuthorityName': 'Dover',\n",
      " 'LocalAuthorityWebSite': 'http://www.dover.gov.uk/',\n",
      " 'NewRatingPending': False,\n",
      " 'Phone': '',\n",
      " 'PostCode': 'CT15 6DY',\n",
      " 'RatingDate': '2022-03-24T00:00:00',\n",
      " 'RatingKey': 'fhrs_5_en-gb',\n",
      " 'RatingValue': '5',\n",
      " 'RightToReply': '',\n",
      " 'SchemeType': 'FHRS',\n",
      " '_id': ObjectId('67a0603e7f929d44ab2b59e4'),\n",
      " 'geocode': {'latitude': '51.152225', 'longitude': '1.387974'},\n",
      " 'links': [{'href': 'https://api.ratings.food.gov.uk/establishments/254719',\n",
      "            'rel': 'self'}],\n",
      " 'meta': {'dataSource': None,\n",
      "          'extractDate': '0001-01-01T00:00:00',\n",
      "          'itemCount': 0,\n",
      "          'pageNumber': 0,\n",
      "          'pageSize': 0,\n",
      "          'returncode': None,\n",
      "          'totalCount': 0,\n",
      "          'totalPages': 0},\n",
      " 'scores': {'ConfidenceInManagement': 5, 'Hygiene': 0, 'Structural': 5}}\n"
     ]
    }
   ],
   "source": [
    "# review a document in the establishments collection\n",
    "pprint(db.establishments.find_one())"
   ]
  },
  {
   "cell_type": "markdown",
   "id": "ea80ce6c-fad1-4e1c-a2a9-a2d789c27313",
   "metadata": {},
   "source": [
    "### - count the documents in the collection\n",
    "- 'establishments.count_documents({})'"
   ]
  },
  {
   "cell_type": "code",
   "execution_count": 581,
   "id": "1d909bf0-a3a5-4cda-868b-10b68e55f9bf",
   "metadata": {},
   "outputs": [
    {
     "name": "stdout",
     "output_type": "stream",
     "text": [
      "Number of documents in the 'establishments' collection: 39779\n"
     ]
    }
   ],
   "source": [
    "number_of_documents = establishments.count_documents({})\n",
    "print(f\"Number of documents in the 'establishments' collection: {number_of_documents}\")"
   ]
  },
  {
   "cell_type": "code",
   "execution_count": 582,
   "id": "11c9f11b",
   "metadata": {},
   "outputs": [],
   "source": [
    "# assign the collection to a variable\n",
    "establishments = db['establishments']"
   ]
  },
  {
   "cell_type": "markdown",
   "id": "d5671434",
   "metadata": {},
   "source": [
    "## Part 2: Update the Database"
   ]
  },
  {
   "cell_type": "markdown",
   "id": "314bd884",
   "metadata": {},
   "source": [
    "1. An exciting new halal restaurant just opened in Greenwich, but hasn't been rated yet. The magazine has asked you to include it in your analysis. Add the following restaurant \"Penang Flavours\" to the database."
   ]
  },
  {
   "cell_type": "markdown",
   "id": "64c9fba6-d07c-4249-8ecf-d80588ad998c",
   "metadata": {},
   "source": [
    "### - Create a dictionary for the new restaurant data"
   ]
  },
  {
   "cell_type": "markdown",
   "id": "17fd9a5a-b074-4f90-9d8f-7bbf924dce12",
   "metadata": {},
   "source": []
  },
  {
   "cell_type": "code",
   "execution_count": 587,
   "id": "c2da7648",
   "metadata": {},
   "outputs": [],
   "source": [
    "new_establishment_dict = {\n",
    "    \"BusinessName\":\"Penang Flavours\",\n",
    "\t\"BusinessType\":\"Restaurant/Cafe/Canteen\",\n",
    "\t\"BusinessTypeID\":\"\",\n",
    "\t\"AddressLine1\":\"Penang Flavours\",\n",
    "    \"AddressLine2\":\"146A Plumstead Rd\",\n",
    "    \"AddressLine3\":\"London\",\n",
    "\t\"AddressLine4\":\"\",\n",
    "    'ChangesByServerID': '',\n",
    "    \"PostCode\":\"SE18 7DY\",\n",
    "    \"Phone\":\"\",\n",
    "    \"LocalAuthorityCode\":\"511\",\n",
    "    \"LocalAuthorityName\":\"Greenwich\",\n",
    "    \"LocalAuthorityWebSite\":\"http://www.royalgreenwich.gov.uk\",\n",
    "    \"LocalAuthorityEmailAddress\":\"health@royalgreenwich.gov.uk\",\n",
    "    \"scores\":{\n",
    "        \"Hygiene\":\"\",\n",
    "        \"Structural\":\"\",\n",
    "        \"ConfidenceInManagement\":\"\"\n",
    "        },\n",
    "    \"SchemeType\":\"FHRS\",\n",
    "    \"geocode\":{\n",
    "    \"longitude\":\"0.08384000\",\n",
    "    \"latitude\":\"51.49014200\"\n",
    "    },\n",
    "    \"RightToReply\":\"\",\n",
    "    'RatingDate': '2022-03-24T00:00:00',\n",
    "    'RatingKey': 'fhrs_5_en-gb',\n",
    "    'RatingValue': '5',\n",
    "    \"Distance\":4623.9723280747176,\n",
    "    \"NewRatingPending\":True\n",
    "}\n"
   ]
  },
  {
   "cell_type": "markdown",
   "id": "71ab7b36-0840-4648-8e38-aa5b0085637f",
   "metadata": {},
   "source": [
    "### - Insert the new restaurant into the collection"
   ]
  },
  {
   "cell_type": "code",
   "execution_count": 589,
   "id": "7e0f0dd9-f096-4ad4-81f6-0903f3bb8d91",
   "metadata": {},
   "outputs": [
    {
     "data": {
      "text/plain": [
       "InsertOneResult(ObjectId('67a060407f929d44ab2bf547'), acknowledged=True)"
      ]
     },
     "execution_count": 589,
     "metadata": {},
     "output_type": "execute_result"
    }
   ],
   "source": [
    "establishments.insert_one(new_establishment_dict)"
   ]
  },
  {
   "cell_type": "markdown",
   "id": "d99ae768-5d33-4f20-a6c7-84c1abae686b",
   "metadata": {},
   "source": [
    "### - check that the new restaurant was inserted by recounting the number of documents"
   ]
  },
  {
   "cell_type": "code",
   "execution_count": 594,
   "id": "c490f064-96b0-47d7-8dbb-90c38534768e",
   "metadata": {},
   "outputs": [
    {
     "name": "stdout",
     "output_type": "stream",
     "text": [
      "Number of documents in the 'establishments' collection: 39780\n"
     ]
    }
   ],
   "source": [
    "number_of_documents = establishments.count_documents({})\n",
    "print(f\"Number of documents in the 'establishments' collection: {number_of_documents}\")"
   ]
  },
  {
   "cell_type": "markdown",
   "id": "0ef4395a",
   "metadata": {},
   "source": [
    "2. Find the BusinessTypeID for \"Restaurant/Cafe/Canteen\" and return only the `BusinessTypeID` and `BusinessType` fields."
   ]
  },
  {
   "cell_type": "markdown",
   "id": "d137aa15-f0fc-4cc6-a1ef-67bd3b43994e",
   "metadata": {},
   "source": [
    "### - Find the BusinessTypeID for \"Restaurant/Cafe/Canteen\" and return only the BusinessTypeID and BusinessType fields\n",
    "- 'query = {'BusinessType': \"Restaurant/Cafe/Canteen\"}\n",
    "- 'fields = {'BusinessType':1, 'BusinessTypeID':1}\n",
    "- results = establishments.find(query,fields)\n",
    "- pprint(results[0]"
   ]
  },
  {
   "cell_type": "markdown",
   "id": "e7dd78a7-55c7-4eb0-a378-94ba5eabe116",
   "metadata": {},
   "source": [
    "### - create query "
   ]
  },
  {
   "cell_type": "code",
   "execution_count": 602,
   "id": "b9669724-0008-4ebb-9e32-b8f5dd8ac5a1",
   "metadata": {},
   "outputs": [],
   "source": [
    "query = {'BusinessType': \"Restaurant/Cafe/Canteen\"}"
   ]
  },
  {
   "cell_type": "markdown",
   "id": "79314afc-6d28-446b-a176-8f7038ff86ca",
   "metadata": {},
   "source": [
    "### - filter for specified fields"
   ]
  },
  {
   "cell_type": "code",
   "execution_count": 604,
   "id": "545769a6-d0a9-45eb-8cea-b5acfc16669f",
   "metadata": {},
   "outputs": [],
   "source": [
    "fields = {'BusinessType':1, 'BusinessTypeID':1}"
   ]
  },
  {
   "cell_type": "markdown",
   "id": "7bf4a694-d478-475d-a465-eb29177761c6",
   "metadata": {},
   "source": [
    "### - run the query and capture in 'results'"
   ]
  },
  {
   "cell_type": "code",
   "execution_count": 607,
   "id": "912c9e13-7c9e-4b48-9fce-ea3857038c05",
   "metadata": {},
   "outputs": [],
   "source": [
    "results = establishments.find(query,fields)"
   ]
  },
  {
   "cell_type": "markdown",
   "id": "aac1b04d-a1e2-493c-ae95-ba7879c51caa",
   "metadata": {},
   "source": [
    "### - print the first result to get the BuisnessTypeIG by inspection"
   ]
  },
  {
   "cell_type": "code",
   "execution_count": 609,
   "id": "156c827d-6833-4134-9d9f-33c5b9ce2620",
   "metadata": {},
   "outputs": [
    {
     "name": "stdout",
     "output_type": "stream",
     "text": [
      "{'BusinessType': 'Restaurant/Cafe/Canteen',\n",
      " 'BusinessTypeID': 1,\n",
      " '_id': ObjectId('67a0603e7f929d44ab2b59e4')}\n"
     ]
    }
   ],
   "source": [
    "pprint(results[0])"
   ]
  },
  {
   "cell_type": "code",
   "execution_count": 610,
   "id": "57a252bc-4250-4e29-ab6d-c6d98d9a1ce6",
   "metadata": {},
   "outputs": [
    {
     "name": "stdout",
     "output_type": "stream",
     "text": [
      "BuisinesTypeID for BuisnessType = 'Restaurant/Cafe/Canteen': 1 \n"
     ]
    }
   ],
   "source": [
    "print(f\"BuisinesTypeID for BuisnessType = 'Restaurant/Cafe/Canteen': {results[0]['BusinessTypeID']} \")"
   ]
  },
  {
   "cell_type": "markdown",
   "id": "4e570caf",
   "metadata": {},
   "source": [
    "3. Update the new restaurant with the `BusinessTypeID` you found."
   ]
  },
  {
   "cell_type": "markdown",
   "id": "7edeefbe-8454-4dfb-8b59-8eb77638ce21",
   "metadata": {},
   "source": [
    "### - Update the new restaurant with the correct BusinessTypeID\n",
    "- establishments.update_one( <br>\n",
    "    {'_id': '679fefd67f929d44ab271a22'}, <br>\n",
    "    {'$set': <br>\n",
    "        {'BusinessTypeID': 1} <br>\n",
    "    } <br>\n",
    ")"
   ]
  },
  {
   "cell_type": "code",
   "execution_count": 614,
   "id": "64945f00-9d2a-4da3-ac3f-747a5c4bd6ae",
   "metadata": {},
   "outputs": [
    {
     "data": {
      "text/plain": [
       "UpdateResult({'n': 0, 'nModified': 0, 'ok': 1.0, 'updatedExisting': False}, acknowledged=True)"
      ]
     },
     "execution_count": 614,
     "metadata": {},
     "output_type": "execute_result"
    }
   ],
   "source": [
    "object_id = ObjectId('67a01e6a7f929d44ab27b585')\n",
    "establishments.update_one(\n",
    "    {'_id': object_id},\n",
    "    {'$set':\n",
    "        {'BusinessTypeID': 1}\n",
    "    }\n",
    ")"
   ]
  },
  {
   "cell_type": "markdown",
   "id": "d0ca641c-a9c8-4dd2-8832-c167996770c2",
   "metadata": {},
   "source": [
    "# Confirm that the new restaurant was updated\n",
    "- 'query = {\"BusinessName\":\"Penang Flavours\"}'\n",
    "- 'fields = {'BusinessType':1, 'BusinessTypeID':1}'\n",
    "- 'results = establishments.find(query,fields)'\n",
    "- 'pprint(results[0])'\n",
    "### NOTE: 'find_one' returns a cursor object -- toget content must iterate through it, or specify element(s)"
   ]
  },
  {
   "cell_type": "code",
   "execution_count": 616,
   "id": "9fad5e1a-bf29-40f6-8633-57820632de97",
   "metadata": {},
   "outputs": [
    {
     "name": "stdout",
     "output_type": "stream",
     "text": [
      "{'BusinessType': 'Restaurant/Cafe/Canteen',\n",
      " 'BusinessTypeID': '',\n",
      " '_id': ObjectId('67a060407f929d44ab2bf547')}\n"
     ]
    }
   ],
   "source": [
    "query = {\"BusinessName\":\"Penang Flavours\"}\n",
    "results = establishments.find(query,fields)\n",
    "pprint(results[0])"
   ]
  },
  {
   "cell_type": "markdown",
   "id": "67281254",
   "metadata": {},
   "source": [
    "4. The magazine is not interested in any establishments in Dover, so check how many documents contain the Dover Local Authority. Then, remove any establishments within the Dover Local Authority from the database, and check the number of documents to ensure they were deleted."
   ]
  },
  {
   "cell_type": "code",
   "execution_count": 618,
   "id": "768474a6",
   "metadata": {},
   "outputs": [
    {
     "name": "stdout",
     "output_type": "stream",
     "text": [
      "Number of establishments in Dover :994\n"
     ]
    }
   ],
   "source": [
    "# Find how many documents have LocalAuthorityName as \"Dover\"\n",
    "query = {'LocalAuthorityName': 'Dover'}\n",
    "count = establishments.count_documents(query)\n",
    "print(f\"Number of establishments in Dover :{count}\")"
   ]
  },
  {
   "cell_type": "code",
   "execution_count": 619,
   "id": "a11d5f1b",
   "metadata": {},
   "outputs": [
    {
     "data": {
      "text/plain": [
       "DeleteResult({'n': 994, 'ok': 1.0}, acknowledged=True)"
      ]
     },
     "execution_count": 619,
     "metadata": {},
     "output_type": "execute_result"
    }
   ],
   "source": [
    "# Delete all documents where LocalAuthorityName is \"Dover\"\n",
    "establishments.delete_many(query)\n"
   ]
  },
  {
   "cell_type": "code",
   "execution_count": 620,
   "id": "2a51aba0",
   "metadata": {},
   "outputs": [
    {
     "name": "stdout",
     "output_type": "stream",
     "text": [
      "Number of establishments in Dover after deleting :0\n"
     ]
    }
   ],
   "source": [
    "# Check if any remaining documents include Dover\n",
    "query = {'LocalAuthorityName': 'Dover'}\n",
    "count = establishments.count_documents(query)\n",
    "print(f\"Number of establishments in Dover after deleting :{count}\")"
   ]
  },
  {
   "cell_type": "code",
   "execution_count": 621,
   "id": "8c356f7b",
   "metadata": {},
   "outputs": [
    {
     "name": "stdout",
     "output_type": "stream",
     "text": [
      "Number of documents in the 'establishments' collection: 38786\n"
     ]
    }
   ],
   "source": [
    "# Check that other documents remain with 'find_one'\n",
    "number_of_documents = establishments.count_documents({})\n",
    "print(f\"Number of documents in the 'establishments' collection: {number_of_documents}\")"
   ]
  },
  {
   "cell_type": "code",
   "execution_count": 622,
   "id": "5351b2a1-fa96-45aa-a401-cb8a37aaa1f3",
   "metadata": {},
   "outputs": [
    {
     "name": "stdout",
     "output_type": "stream",
     "text": [
      "{'AddressLine1': 'Penang Flavours',\n",
      " 'AddressLine2': '146A Plumstead Rd',\n",
      " 'AddressLine3': 'London',\n",
      " 'AddressLine4': '',\n",
      " 'BusinessName': 'Penang Flavours',\n",
      " 'BusinessType': 'Restaurant/Cafe/Canteen',\n",
      " 'BusinessTypeID': '',\n",
      " 'ChangesByServerID': '',\n",
      " 'Distance': 4623.972328074718,\n",
      " 'LocalAuthorityCode': '511',\n",
      " 'LocalAuthorityEmailAddress': 'health@royalgreenwich.gov.uk',\n",
      " 'LocalAuthorityName': 'Greenwich',\n",
      " 'LocalAuthorityWebSite': 'http://www.royalgreenwich.gov.uk',\n",
      " 'NewRatingPending': True,\n",
      " 'Phone': '',\n",
      " 'PostCode': 'SE18 7DY',\n",
      " 'RatingDate': '2022-03-24T00:00:00',\n",
      " 'RatingKey': 'fhrs_5_en-gb',\n",
      " 'RatingValue': '5',\n",
      " 'RightToReply': '',\n",
      " 'SchemeType': 'FHRS',\n",
      " '_id': ObjectId('67a060407f929d44ab2bf547'),\n",
      " 'geocode': {'latitude': '51.49014200', 'longitude': '0.08384000'},\n",
      " 'scores': {'ConfidenceInManagement': '', 'Hygiene': '', 'Structural': ''}}\n"
     ]
    }
   ],
   "source": [
    "query = {\"BusinessName\":\"Penang Flavours\"}\n",
    "results = establishments.find(query)\n",
    "pprint(results[0])"
   ]
  },
  {
   "attachments": {},
   "cell_type": "markdown",
   "id": "e9f1662d",
   "metadata": {},
   "source": [
    "5. Some of the number values are stored as strings, when they should be stored as numbers."
   ]
  },
  {
   "attachments": {},
   "cell_type": "markdown",
   "id": "c46df2df",
   "metadata": {},
   "source": [
    "Use `update_many` to convert `latitude` and `longitude` to decimal numbers."
   ]
  },
  {
   "cell_type": "code",
   "execution_count": 625,
   "id": "fd4112ce",
   "metadata": {},
   "outputs": [
    {
     "data": {
      "text/plain": [
       "UpdateResult({'n': 38786, 'nModified': 38786, 'ok': 1.0, 'updatedExisting': True}, acknowledged=True)"
      ]
     },
     "execution_count": 625,
     "metadata": {},
     "output_type": "execute_result"
    }
   ],
   "source": [
    "# Change the data type from String to Decimal for longitude and latitude\n",
    "db.establishments.update_many({}, [\n",
    "    {'$set': {\n",
    "        \"latitude\": {\n",
    "            '$toDouble': \"$latitude\"\n",
    "            }\n",
    "        }\n",
    "    }\n",
    "])  \n",
    "    \n",
    " \n"
   ]
  },
  {
   "cell_type": "code",
   "execution_count": 626,
   "id": "a67b0ce0-35cc-48fe-af96-60196731af49",
   "metadata": {},
   "outputs": [
    {
     "data": {
      "text/plain": [
       "UpdateResult({'n': 38786, 'nModified': 38786, 'ok': 1.0, 'updatedExisting': True}, acknowledged=True)"
      ]
     },
     "execution_count": 626,
     "metadata": {},
     "output_type": "execute_result"
    }
   ],
   "source": [
    "db.establishments.update_many({}, [\n",
    "    {'$set': {\n",
    "        \"longitude\": {\n",
    "            '$toDouble': \"$longitude\"\n",
    "            }\n",
    "        }\n",
    "    }\n",
    "]) "
   ]
  },
  {
   "attachments": {},
   "cell_type": "markdown",
   "id": "142e319c",
   "metadata": {},
   "source": [
    "### - Use `update_many` to convert `RatingValue` to integer numbers."
   ]
  },
  {
   "cell_type": "code",
   "execution_count": 628,
   "id": "04430a5b",
   "metadata": {},
   "outputs": [
    {
     "data": {
      "text/plain": [
       "UpdateResult({'n': 4091, 'nModified': 4091, 'ok': 1.0, 'updatedExisting': True}, acknowledged=True)"
      ]
     },
     "execution_count": 628,
     "metadata": {},
     "output_type": "execute_result"
    }
   ],
   "source": [
    "# Set non 1-5 Rating Values to Null\n",
    "non_ratings = [\"AwaitingInspection\", \"Awaiting Inspection\", \"AwaitingPublication\", \"Pass\", \"Exempt\"]\n",
    "establishments.update_many({\"RatingValue\": {\"$in\": non_ratings}}, [ {'$set':{ \"RatingValue\" : None}} ])"
   ]
  },
  {
   "cell_type": "code",
   "execution_count": 630,
   "id": "92524ccc",
   "metadata": {},
   "outputs": [
    {
     "data": {
      "text/plain": [
       "UpdateResult({'n': 38786, 'nModified': 34695, 'ok': 1.0, 'updatedExisting': True}, acknowledged=True)"
      ]
     },
     "execution_count": 630,
     "metadata": {},
     "output_type": "execute_result"
    }
   ],
   "source": [
    "# Change the data type from String to Integer for RatingValue\n",
    "db.establishments.update_many({}, [\n",
    "    {'$set': {\n",
    "        \"RatingValue\": {\n",
    "            '$toInt': \"$RatingValue\"\n",
    "            }\n",
    "        }\n",
    "    }\n",
    "]) "
   ]
  },
  {
   "cell_type": "code",
   "execution_count": 651,
   "id": "2c5c5ea8-1f57-45ca-8c0a-69886491cb3c",
   "metadata": {},
   "outputs": [
    {
     "name": "stdout",
     "output_type": "stream",
     "text": [
      "The data type of 'latitude':  <class 'NoneType'>\n",
      "The data type of 'longitude':  <class 'NoneType'>\n",
      "The data type of 'RatingValue':  <class 'int'>\n"
     ]
    }
   ],
   "source": [
    "query = {\"BusinessName\":\"Penang Flavours\"}\n",
    "fields = {\"latitude\":1, \"longitude\":1,\"RatingValue\": 1 }\n",
    "results = establishments.find(query,fields)\n",
    "#pprint(results[0])\n",
    "print(f\"The data type of 'latitude':  {type(results[0]['latitude'])}\")\n",
    "print(f\"The data type of 'longitude':  {type(results[0]['longitude'])}\")\n",
    "print(f\"The data type of 'RatingValue':  {type(results[0]['RatingValue'])}\")"
   ]
  },
  {
   "cell_type": "code",
   "execution_count": null,
   "id": "a4721b85-183d-4274-82ed-fd3f21dac47f",
   "metadata": {},
   "outputs": [],
   "source": []
  }
 ],
 "metadata": {
  "kernelspec": {
   "display_name": "Python 3 (ipykernel)",
   "language": "python",
   "name": "python3"
  },
  "language_info": {
   "codemirror_mode": {
    "name": "ipython",
    "version": 3
   },
   "file_extension": ".py",
   "mimetype": "text/x-python",
   "name": "python",
   "nbconvert_exporter": "python",
   "pygments_lexer": "ipython3",
   "version": "3.12.2"
  }
 },
 "nbformat": 4,
 "nbformat_minor": 5
}
